{
 "cells": [
  {
   "cell_type": "markdown",
   "metadata": {},
   "source": [
    "<h1> Correlation Demonstration Code"
   ]
  },
  {
   "cell_type": "code",
   "execution_count": 1,
   "metadata": {},
   "outputs": [],
   "source": [
    "import numpy as np # imports a fast numerical programming library\n",
    "import scipy as sp #imports stats functions, amongst other things\n",
    "import pandas as pd #lets us handle data as dataframes\n",
    "\n",
    "from sklearn.metrics import mean_squared_error\n",
    "import math \n",
    "from random import randint #import a random integer generator"
   ]
  },
  {
   "cell_type": "code",
   "execution_count": 2,
   "metadata": {},
   "outputs": [],
   "source": [
    "df_1 = pd.read_csv('./active_generated.csv')\n",
    "df_2 = pd.read_csv('./inactive_generated.csv')"
   ]
  },
  {
   "cell_type": "code",
   "execution_count": 3,
   "metadata": {},
   "outputs": [
    {
     "data": {
      "text/html": [
       "<div>\n",
       "<style scoped>\n",
       "    .dataframe tbody tr th:only-of-type {\n",
       "        vertical-align: middle;\n",
       "    }\n",
       "\n",
       "    .dataframe tbody tr th {\n",
       "        vertical-align: top;\n",
       "    }\n",
       "\n",
       "    .dataframe thead th {\n",
       "        text-align: right;\n",
       "    }\n",
       "</style>\n",
       "<table border=\"1\" class=\"dataframe\">\n",
       "  <thead>\n",
       "    <tr style=\"text-align: right;\">\n",
       "      <th></th>\n",
       "      <th>Unnamed: 0</th>\n",
       "      <th>ID</th>\n",
       "      <th>Age</th>\n",
       "      <th>Balance</th>\n",
       "      <th>Title</th>\n",
       "    </tr>\n",
       "  </thead>\n",
       "  <tbody>\n",
       "    <tr>\n",
       "      <td>0</td>\n",
       "      <td>0</td>\n",
       "      <td>1</td>\n",
       "      <td>24</td>\n",
       "      <td>3919</td>\n",
       "      <td>Hourly</td>\n",
       "    </tr>\n",
       "    <tr>\n",
       "      <td>1</td>\n",
       "      <td>1</td>\n",
       "      <td>2</td>\n",
       "      <td>26</td>\n",
       "      <td>3260</td>\n",
       "      <td>Hourly</td>\n",
       "    </tr>\n",
       "    <tr>\n",
       "      <td>2</td>\n",
       "      <td>2</td>\n",
       "      <td>3</td>\n",
       "      <td>29</td>\n",
       "      <td>5225</td>\n",
       "      <td>Hourly</td>\n",
       "    </tr>\n",
       "    <tr>\n",
       "      <td>3</td>\n",
       "      <td>3</td>\n",
       "      <td>4</td>\n",
       "      <td>21</td>\n",
       "      <td>9718</td>\n",
       "      <td>Hourly</td>\n",
       "    </tr>\n",
       "    <tr>\n",
       "      <td>4</td>\n",
       "      <td>4</td>\n",
       "      <td>5</td>\n",
       "      <td>24</td>\n",
       "      <td>7730</td>\n",
       "      <td>Hourly</td>\n",
       "    </tr>\n",
       "    <tr>\n",
       "      <td>...</td>\n",
       "      <td>...</td>\n",
       "      <td>...</td>\n",
       "      <td>...</td>\n",
       "      <td>...</td>\n",
       "      <td>...</td>\n",
       "    </tr>\n",
       "    <tr>\n",
       "      <td>1229</td>\n",
       "      <td>1229</td>\n",
       "      <td>1230</td>\n",
       "      <td>89</td>\n",
       "      <td>698335</td>\n",
       "      <td>Level 3</td>\n",
       "    </tr>\n",
       "    <tr>\n",
       "      <td>1230</td>\n",
       "      <td>1230</td>\n",
       "      <td>1231</td>\n",
       "      <td>84</td>\n",
       "      <td>604341</td>\n",
       "      <td>Level 3</td>\n",
       "    </tr>\n",
       "    <tr>\n",
       "      <td>1231</td>\n",
       "      <td>1231</td>\n",
       "      <td>1232</td>\n",
       "      <td>80</td>\n",
       "      <td>792092</td>\n",
       "      <td>Level 3</td>\n",
       "    </tr>\n",
       "    <tr>\n",
       "      <td>1232</td>\n",
       "      <td>1232</td>\n",
       "      <td>1233</td>\n",
       "      <td>85</td>\n",
       "      <td>767220</td>\n",
       "      <td>Level 3</td>\n",
       "    </tr>\n",
       "    <tr>\n",
       "      <td>1233</td>\n",
       "      <td>1233</td>\n",
       "      <td>1234</td>\n",
       "      <td>83</td>\n",
       "      <td>799758</td>\n",
       "      <td>Level 3</td>\n",
       "    </tr>\n",
       "  </tbody>\n",
       "</table>\n",
       "<p>1234 rows × 5 columns</p>\n",
       "</div>"
      ],
      "text/plain": [
       "      Unnamed: 0    ID  Age  Balance    Title\n",
       "0              0     1   24     3919   Hourly\n",
       "1              1     2   26     3260   Hourly\n",
       "2              2     3   29     5225   Hourly\n",
       "3              3     4   21     9718   Hourly\n",
       "4              4     5   24     7730   Hourly\n",
       "...          ...   ...  ...      ...      ...\n",
       "1229        1229  1230   89   698335  Level 3\n",
       "1230        1230  1231   84   604341  Level 3\n",
       "1231        1231  1232   80   792092  Level 3\n",
       "1232        1232  1233   85   767220  Level 3\n",
       "1233        1233  1234   83   799758  Level 3\n",
       "\n",
       "[1234 rows x 5 columns]"
      ]
     },
     "execution_count": 3,
     "metadata": {},
     "output_type": "execute_result"
    }
   ],
   "source": [
    "df_1"
   ]
  },
  {
   "cell_type": "code",
   "execution_count": 4,
   "metadata": {},
   "outputs": [
    {
     "name": "stdout",
     "output_type": "stream",
     "text": [
      "The correlation coefficient between Age and Balance is: 0.3452558352672443\n"
     ]
    }
   ],
   "source": [
    "print(\"The correlation coefficient between Age and Balance is: {}\" .format(np.corrcoef(df_1[\"Age\"], df_1[\"Balance\"])[0][1]))"
   ]
  }
 ],
 "metadata": {
  "kernelspec": {
   "display_name": "Python 3",
   "language": "python",
   "name": "python3"
  },
  "language_info": {
   "codemirror_mode": {
    "name": "ipython",
    "version": 3
   },
   "file_extension": ".py",
   "mimetype": "text/x-python",
   "name": "python",
   "nbconvert_exporter": "python",
   "pygments_lexer": "ipython3",
   "version": "3.7.4"
  }
 },
 "nbformat": 4,
 "nbformat_minor": 4
}
