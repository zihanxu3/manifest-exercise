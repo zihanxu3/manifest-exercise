{
 "cells": [
  {
   "cell_type": "markdown",
   "metadata": {},
   "source": [
    "<h1>Data Generation Code</h1>\n",
    "\n",
    "<h3> Summary </h3>\n",
    "<b>In this code, I found the number of data in each ranges and randomly generate the corresponding number of data within the range."
   ]
  },
  {
   "cell_type": "code",
   "execution_count": 1,
   "metadata": {},
   "outputs": [],
   "source": [
    "import numpy as np # imports a fast numerical programming library\n",
    "import scipy as sp # imports stats functions, amongst other things\n",
    "import pandas as pd # lets us handle data as dataframes\n",
    "\n",
    "import math # lets us use ceil() or floor() functions\n",
    "from random import randint # import a random integer generator"
   ]
  },
  {
   "cell_type": "markdown",
   "metadata": {},
   "source": [
    "<h4> Data Generation for Active Users </h4>\n",
    "<b>I start by reading in the pre-processed data sets as pandas dataframes and preprocessed the data so as to make the labels readable in Python.</b>"
   ]
  },
  {
   "cell_type": "code",
   "execution_count": 2,
   "metadata": {},
   "outputs": [],
   "source": [
    "df_act_1 = pd.read_csv('./data/act_sal_age.csv') # read the CSV: Balance by Age\n",
    "df_act_2 = pd.read_csv('./data/act_age_lev.csv') # read the CSV: Age by Title"
   ]
  },
  {
   "cell_type": "code",
   "execution_count": 3,
   "metadata": {},
   "outputs": [],
   "source": [
    "# Append this column to the dataframe, making it convenient for me to read data ranges later\n",
    "df_act_1.columns = [\"sal_range\", \"21_29\", \"30_39\", \"40_49\", \"50_59\", \"60_69\", \"70_79\", \"80_89\", \"90_100\", \"sum_sal\"]"
   ]
  },
  {
   "cell_type": "code",
   "execution_count": 4,
   "metadata": {},
   "outputs": [
    {
     "data": {
      "text/html": [
       "<div>\n",
       "<style scoped>\n",
       "    .dataframe tbody tr th:only-of-type {\n",
       "        vertical-align: middle;\n",
       "    }\n",
       "\n",
       "    .dataframe tbody tr th {\n",
       "        vertical-align: top;\n",
       "    }\n",
       "\n",
       "    .dataframe thead th {\n",
       "        text-align: right;\n",
       "    }\n",
       "</style>\n",
       "<table border=\"1\" class=\"dataframe\">\n",
       "  <thead>\n",
       "    <tr style=\"text-align: right;\">\n",
       "      <th></th>\n",
       "      <th>sal_range</th>\n",
       "      <th>21_29</th>\n",
       "      <th>30_39</th>\n",
       "      <th>40_49</th>\n",
       "      <th>50_59</th>\n",
       "      <th>60_69</th>\n",
       "      <th>70_79</th>\n",
       "      <th>80_89</th>\n",
       "      <th>90_100</th>\n",
       "      <th>sum_sal</th>\n",
       "    </tr>\n",
       "  </thead>\n",
       "  <tbody>\n",
       "    <tr>\n",
       "      <td>0</td>\n",
       "      <td>1000_4999</td>\n",
       "      <td>0.0019</td>\n",
       "      <td>0.0014</td>\n",
       "      <td>0.0013</td>\n",
       "      <td>0.0021</td>\n",
       "      <td>0.0015</td>\n",
       "      <td>0.0000</td>\n",
       "      <td>0.0000</td>\n",
       "      <td>0.0</td>\n",
       "      <td>0.0083</td>\n",
       "    </tr>\n",
       "    <tr>\n",
       "      <td>1</td>\n",
       "      <td>5000_9999</td>\n",
       "      <td>0.0153</td>\n",
       "      <td>0.0062</td>\n",
       "      <td>0.0057</td>\n",
       "      <td>0.0089</td>\n",
       "      <td>0.0065</td>\n",
       "      <td>0.0038</td>\n",
       "      <td>0.0022</td>\n",
       "      <td>0.0</td>\n",
       "      <td>0.0486</td>\n",
       "    </tr>\n",
       "    <tr>\n",
       "      <td>2</td>\n",
       "      <td>10000_24999</td>\n",
       "      <td>0.0185</td>\n",
       "      <td>0.0095</td>\n",
       "      <td>0.0087</td>\n",
       "      <td>0.0137</td>\n",
       "      <td>0.0100</td>\n",
       "      <td>0.0058</td>\n",
       "      <td>0.0034</td>\n",
       "      <td>0.0</td>\n",
       "      <td>0.0696</td>\n",
       "    </tr>\n",
       "    <tr>\n",
       "      <td>3</td>\n",
       "      <td>25000_49999</td>\n",
       "      <td>0.0145</td>\n",
       "      <td>0.0112</td>\n",
       "      <td>0.0102</td>\n",
       "      <td>0.0161</td>\n",
       "      <td>0.0118</td>\n",
       "      <td>0.0068</td>\n",
       "      <td>0.0040</td>\n",
       "      <td>0.0</td>\n",
       "      <td>0.0745</td>\n",
       "    </tr>\n",
       "    <tr>\n",
       "      <td>4</td>\n",
       "      <td>50000_99999</td>\n",
       "      <td>0.0327</td>\n",
       "      <td>0.0252</td>\n",
       "      <td>0.0231</td>\n",
       "      <td>0.0364</td>\n",
       "      <td>0.0266</td>\n",
       "      <td>0.0153</td>\n",
       "      <td>0.0091</td>\n",
       "      <td>0.0</td>\n",
       "      <td>0.1683</td>\n",
       "    </tr>\n",
       "  </tbody>\n",
       "</table>\n",
       "</div>"
      ],
      "text/plain": [
       "     sal_range   21_29   30_39   40_49   50_59   60_69   70_79   80_89  \\\n",
       "0    1000_4999  0.0019  0.0014  0.0013  0.0021  0.0015  0.0000  0.0000   \n",
       "1    5000_9999  0.0153  0.0062  0.0057  0.0089  0.0065  0.0038  0.0022   \n",
       "2  10000_24999  0.0185  0.0095  0.0087  0.0137  0.0100  0.0058  0.0034   \n",
       "3  25000_49999  0.0145  0.0112  0.0102  0.0161  0.0118  0.0068  0.0040   \n",
       "4  50000_99999  0.0327  0.0252  0.0231  0.0364  0.0266  0.0153  0.0091   \n",
       "\n",
       "   90_100  sum_sal  \n",
       "0     0.0   0.0083  \n",
       "1     0.0   0.0486  \n",
       "2     0.0   0.0696  \n",
       "3     0.0   0.0745  \n",
       "4     0.0   0.1683  "
      ]
     },
     "execution_count": 4,
     "metadata": {},
     "output_type": "execute_result"
    }
   ],
   "source": [
    "# Showing the first five rows of original dataset\n",
    "df_act_1.head(5)"
   ]
  },
  {
   "cell_type": "markdown",
   "metadata": {},
   "source": [
    "<b> Here I am retrieving the age range as well as the corresponding age percentages as arrays.  "
   ]
  },
  {
   "cell_type": "code",
   "execution_count": 5,
   "metadata": {},
   "outputs": [
    {
     "data": {
      "text/plain": [
       "Index(['21_29', '30_39', '40_49', '50_59', '60_69', '70_79', '80_89',\n",
       "       '90_100'],\n",
       "      dtype='object')"
      ]
     },
     "execution_count": 5,
     "metadata": {},
     "output_type": "execute_result"
    }
   ],
   "source": [
    "# Retrieve the Index column, which contains the age ranges \n",
    "age_ranges = df_act_1.columns[1:-1]\n",
    "# Retrieve the last row, excluding first and last columns \n",
    "age_percents = df_act_1.iloc[14, 1:-1].to_numpy() \n",
    "age_ranges"
   ]
  },
  {
   "cell_type": "markdown",
   "metadata": {},
   "source": [
    "<b> This is the main portion of the code for random data generation. I start by iterating through ```age_percents```, which gives me the percentages of people in the corresponding age range. And then I randomly generate ```1234*age_percents[i]``` of age data in the corresponding ```age_ranges```. Balance and Title data were generated in similar ways."
   ]
  },
  {
   "cell_type": "code",
   "execution_count": 6,
   "metadata": {},
   "outputs": [],
   "source": [
    "# Blank lists that are used to store generated data later\n",
    "age_list = []\n",
    "sal_list = []\n",
    "lev_list = []\n",
    "\n",
    "# Iterate over the list containing Age percentages\n",
    "for i in range(len(age_percents)):\n",
    "    \n",
    "    # Find the corresponding Age range\n",
    "    range_age = age_ranges[i].split('_')\n",
    "    floor_age= int(range_age[0])\n",
    "    ceiling_age = int(range_age[1])\n",
    "    number_age = int(round(age_percents[i]*1234))\n",
    "    \n",
    "    # Find the ranges, percentages arrays of Balance for this specific age range (eg. 21-29)\n",
    "    sal_ranges = df_act_1.iloc[0:-1, 0].to_numpy()\n",
    "    sal_percents = df_act_1.iloc[0:-1, i+1].to_numpy()\n",
    "\n",
    "    # Find the title names, percentages arrays of Title for this specific age range \n",
    "    levels = df_act_2.columns[1:-1]\n",
    "    lev_percents = df_act_2.iloc[i, 1:-1].to_numpy()\n",
    "    \n",
    "    \n",
    "    # Generate random age data points (#: number_age) within the age range\n",
    "    for j in range(number_age):\n",
    "        # Randomly generate ages within the age range\n",
    "        age = randint(floor_age, ceiling_age)\n",
    "        # Append to the list\n",
    "        age_list.append(age)\n",
    "        \n",
    "    # Variable used in compensating for inaccuracy of original data due to rounding     \n",
    "    number_sal_in_age_range = 0\n",
    "    # Iterate over the list containing percentages of Balance ranges within that age range\n",
    "    for k in range(len(sal_percents)):\n",
    "        # Find the corresponding Balance range\n",
    "        range_sal = sal_ranges[k].split('_')\n",
    "        floor_sal= int(range_sal[0])\n",
    "        ceiling_sal = int(range_sal[1])\n",
    "        # Number of Balance data points in this particular range\n",
    "        number_sal = int(round(sal_percents[k]/age_percents[i]*number_age))\n",
    "        \n",
    "        # Generate random Balance data points (#: number_sal) within the age range\n",
    "        for l in range(number_sal):\n",
    "            \n",
    "            # Test if too many data points (> number of age data points in this age range)\n",
    "            if (number_sal_in_age_range >= number_age): break\n",
    "            sal = randint(floor_sal, ceiling_sal)\n",
    "            # Append to the list\n",
    "            sal_list.append(sal)\n",
    "            # Add one to our counter \n",
    "            number_sal_in_age_range += 1\n",
    "\n",
    "    \n",
    "    # Variable used in compensating for inaccuracy of original data due to rounding     \n",
    "    number_lev_in_age_range = 0\n",
    "    # Iterate over the list containing percentages of Title ranges within that age range\n",
    "    for m in range(len(lev_percents)):\n",
    "        number_lev = int(math.ceil(lev_percents[m]/age_percents[i]*number_age))\n",
    "        \n",
    "         # Generate random Title data points (#: number_lev) within the age range\n",
    "        for n in range(number_lev):\n",
    "            \n",
    "            # Test if too many data points (> number of age data points in this age range)\n",
    "            if (number_lev_in_age_range >= number_age): break\n",
    "            # Retrieve Title corresponding to this percentage\n",
    "            level = levels[m]\n",
    "            # Append to the list\n",
    "            lev_list.append(level)\n",
    "            # Add one to our counter \n",
    "            number_lev_in_age_range += 1\n"
   ]
  },
  {
   "cell_type": "code",
   "execution_count": 7,
   "metadata": {},
   "outputs": [],
   "source": [
    "# Append the lists onto a Pandas dataframe and export as a .CSV file\n",
    "result_act = pd.DataFrame()\n",
    "index = np.arange(start=1, stop=1235, step=1).tolist()\n",
    "result_act['ID'] = index\n",
    "result_act['Age'] = age_list\n",
    "result_act['Balance'] = sal_list\n",
    "result_act['Title'] = lev_list\n",
    "result_act\n",
    "result_act.to_csv(\"active_generated.csv\")"
   ]
  },
  {
   "cell_type": "markdown",
   "metadata": {},
   "source": [
    "<h4> Data Generation for Inactive Users </h4>\n",
    "\n",
    "<b> The remaining part is for Inactive Users' data generation. Explanation is omitted as the rationals are very similar to the one above. </b> "
   ]
  },
  {
   "cell_type": "code",
   "execution_count": 8,
   "metadata": {},
   "outputs": [],
   "source": [
    "df_inact_1 = pd.read_csv('./data/inact_sal_type.csv')\n",
    "df_inact_2 = pd.read_csv('./data/inact_race_type.csv')"
   ]
  },
  {
   "cell_type": "code",
   "execution_count": 9,
   "metadata": {},
   "outputs": [
    {
     "data": {
      "text/html": [
       "<div>\n",
       "<style scoped>\n",
       "    .dataframe tbody tr th:only-of-type {\n",
       "        vertical-align: middle;\n",
       "    }\n",
       "\n",
       "    .dataframe tbody tr th {\n",
       "        vertical-align: top;\n",
       "    }\n",
       "\n",
       "    .dataframe thead th {\n",
       "        text-align: right;\n",
       "    }\n",
       "</style>\n",
       "<table border=\"1\" class=\"dataframe\">\n",
       "  <thead>\n",
       "    <tr style=\"text-align: right;\">\n",
       "      <th></th>\n",
       "      <th>#</th>\n",
       "      <th>Unknown</th>\n",
       "      <th>AA</th>\n",
       "      <th>Hispanic</th>\n",
       "      <th>Caucasian</th>\n",
       "      <th>Asian</th>\n",
       "      <th>sum_type</th>\n",
       "    </tr>\n",
       "  </thead>\n",
       "  <tbody>\n",
       "    <tr>\n",
       "      <td>0</td>\n",
       "      <td>Cash Out</td>\n",
       "      <td>0.2803</td>\n",
       "      <td>0.0096</td>\n",
       "      <td>0.0153</td>\n",
       "      <td>0.0955</td>\n",
       "      <td>0.0353</td>\n",
       "      <td>0.436</td>\n",
       "    </tr>\n",
       "    <tr>\n",
       "      <td>1</td>\n",
       "      <td>Keep in Plan</td>\n",
       "      <td>0.1955</td>\n",
       "      <td>0.0067</td>\n",
       "      <td>0.0106</td>\n",
       "      <td>0.0666</td>\n",
       "      <td>0.0246</td>\n",
       "      <td>0.304</td>\n",
       "    </tr>\n",
       "    <tr>\n",
       "      <td>2</td>\n",
       "      <td>Transfer to IRA</td>\n",
       "      <td>0.1080</td>\n",
       "      <td>0.0037</td>\n",
       "      <td>0.0059</td>\n",
       "      <td>0.0368</td>\n",
       "      <td>0.0136</td>\n",
       "      <td>0.168</td>\n",
       "    </tr>\n",
       "    <tr>\n",
       "      <td>3</td>\n",
       "      <td>Transfer to Plan</td>\n",
       "      <td>0.0592</td>\n",
       "      <td>0.0020</td>\n",
       "      <td>0.0032</td>\n",
       "      <td>0.0201</td>\n",
       "      <td>0.0075</td>\n",
       "      <td>0.092</td>\n",
       "    </tr>\n",
       "    <tr>\n",
       "      <td>4</td>\n",
       "      <td>sum_race</td>\n",
       "      <td>0.6430</td>\n",
       "      <td>0.0220</td>\n",
       "      <td>0.0350</td>\n",
       "      <td>0.2190</td>\n",
       "      <td>0.0810</td>\n",
       "      <td>1.000</td>\n",
       "    </tr>\n",
       "  </tbody>\n",
       "</table>\n",
       "</div>"
      ],
      "text/plain": [
       "                  #  Unknown      AA  Hispanic  Caucasian   Asian  sum_type\n",
       "0          Cash Out   0.2803  0.0096    0.0153     0.0955  0.0353     0.436\n",
       "1      Keep in Plan   0.1955  0.0067    0.0106     0.0666  0.0246     0.304\n",
       "2   Transfer to IRA   0.1080  0.0037    0.0059     0.0368  0.0136     0.168\n",
       "3  Transfer to Plan   0.0592  0.0020    0.0032     0.0201  0.0075     0.092\n",
       "4          sum_race   0.6430  0.0220    0.0350     0.2190  0.0810     1.000"
      ]
     },
     "execution_count": 9,
     "metadata": {},
     "output_type": "execute_result"
    }
   ],
   "source": [
    "df_inact_2"
   ]
  },
  {
   "cell_type": "code",
   "execution_count": 10,
   "metadata": {},
   "outputs": [
    {
     "data": {
      "text/plain": [
       "array([0.436, 0.304, 0.168, 0.092])"
      ]
     },
     "execution_count": 10,
     "metadata": {},
     "output_type": "execute_result"
    }
   ],
   "source": [
    "a = df_inact_2.iloc[0:-1,1:-1].to_numpy()\n",
    "a.sum(axis=1)"
   ]
  },
  {
   "cell_type": "code",
   "execution_count": 11,
   "metadata": {},
   "outputs": [
    {
     "data": {
      "text/plain": [
       "array([0.436, 0.304, 0.168, 0.092], dtype=object)"
      ]
     },
     "execution_count": 11,
     "metadata": {},
     "output_type": "execute_result"
    }
   ],
   "source": [
    "type_names = df_inact_1.columns[1:-1]\n",
    "type_percents = df_inact_1.iloc[14, 1:-1].to_numpy()\n",
    "type_percents "
   ]
  },
  {
   "cell_type": "code",
   "execution_count": 12,
   "metadata": {},
   "outputs": [],
   "source": [
    "type_list = []\n",
    "sal_list = []\n",
    "race_list = []\n",
    "for i in range(len(type_percents)):\n",
    "    number_type = int(round(type_percents[i]*1234))\n",
    "    \n",
    "    for j in range(number_type):\n",
    "        type_list.append(type_names[i])\n",
    "    \n",
    "    # about Balance\n",
    "    sal_ranges = df_inact_1.iloc[0:-1, 0].to_numpy()\n",
    "    sal_percents = df_inact_1.iloc[0:-1, i+1].to_numpy()\n",
    "    \n",
    "    number_sal_in_type_range = 0\n",
    "    for k in range(len(sal_percents)):\n",
    "        range_sal = sal_ranges[k].split('_')\n",
    "        floor_sal= int(range_sal[0])\n",
    "        ceiling_sal = int(range_sal[1])\n",
    "        number_sal = int(math.ceil((sal_percents[k]/type_percents[i]*number_type)))\n",
    "        for l in range(number_sal):\n",
    "            if (number_sal_in_type_range >= number_type): break\n",
    "            sal = randint(floor_sal, ceiling_sal)\n",
    "            sal_list.append(sal)\n",
    "            number_sal_in_type_range += 1\n",
    "            \n",
    "    # about race \n",
    "    race_names = df_inact_2.columns[1:-1]\n",
    "    race_percents = df_inact_2.iloc[i, 1:-1].to_numpy()\n",
    "    \n",
    "    number_race_in_age_range = 0\n",
    "    for m in range(len(race_names)):\n",
    "        number_race = int(math.ceil((race_percents[m]/type_percents[i]*number_type)))\n",
    "        for n in range(number_race):\n",
    "            if (number_race_in_age_range >= number_type): break\n",
    "            race = race_names[m]\n",
    "            race_list.append(race)\n",
    "            number_race_in_age_range += 1\n",
    "    "
   ]
  },
  {
   "cell_type": "code",
   "execution_count": 13,
   "metadata": {},
   "outputs": [],
   "source": [
    "result_inact = pd.DataFrame()\n",
    "index = np.arange(start=1, stop=1235, step=1).tolist()\n",
    "result_inact['ID'] = index\n",
    "result_inact['Category'] = type_list\n",
    "result_inact['Balance'] = sal_list\n",
    "result_inact['Race'] = race_list\n",
    "result_inact\n",
    "result_inact.to_csv(\"inactive_generated.csv\")"
   ]
  }
 ],
 "metadata": {
  "kernelspec": {
   "display_name": "Python 3",
   "language": "python",
   "name": "python3"
  },
  "language_info": {
   "codemirror_mode": {
    "name": "ipython",
    "version": 3
   },
   "file_extension": ".py",
   "mimetype": "text/x-python",
   "name": "python",
   "nbconvert_exporter": "python",
   "pygments_lexer": "ipython3",
   "version": "3.7.4"
  }
 },
 "nbformat": 4,
 "nbformat_minor": 4
}
